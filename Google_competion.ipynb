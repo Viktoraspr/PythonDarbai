{
 "cells": [
  {
   "cell_type": "code",
   "execution_count": 38,
   "metadata": {},
   "outputs": [
    {
     "name": "stdout",
     "output_type": "stream",
     "text": [
      "3\n",
      "4 100\n",
      "20 90 40 90\n",
      "Case #1: 2\n",
      "4 50\n",
      "30 30 10 10\n",
      "Case #2: 3\n",
      "3 300\n",
      "999 999 999\n",
      "Case #3: 0\n"
     ]
    }
   ],
   "source": [
    "# https://codingcompetitions.withgoogle.com/kickstart/round/000000000019ffc7/00000000001d3f56\n",
    "\n",
    "T = int(input())\n",
    "\n",
    "for t in range(T):\n",
    "    n, s = [int(x) for x in input().split()] \n",
    "    listas = [int(x) for x in input().split()] \n",
    "    \n",
    "    skaicius = 0\n",
    "    for l in listas:\n",
    "        if l <= s:\n",
    "            s -= l\n",
    "            skaicius += 1\n",
    "            \n",
    "    print(f'Case #{t+1}: {skaicius}')"
   ]
  },
  {
   "cell_type": "code",
   "execution_count": 1,
   "metadata": {},
   "outputs": [
    {
     "data": {
      "text/plain": [
       "[[], []]"
      ]
     },
     "execution_count": 1,
     "metadata": {},
     "output_type": "execute_result"
    }
   ],
   "source": [
    "# https://codingcompetitions.withgoogle.com/kickstart/round/0000000000050edf/00000000000510ed\n",
    "\n",
    "def check_uneven(N):\n",
    "    N = str(N)\n",
    "    for n in N:\n",
    "        if int(n) % 2 == 1:\n",
    "            return False\n",
    "    return True\n",
    "\n",
    "\n",
    "\n",
    "T = int(input())\n",
    "\n",
    "for t in range(1, T+1):\n",
    "    N = int(input())\n",
    "    sk = 0\n",
    "    m = False\n",
    "\n",
    "    while not m:\n",
    "        if check_uneven(N+sk) or check_uneven(N-sk):\n",
    "            print(\"Case #{}: {}\".format(t, sk))\n",
    "            m = True\n",
    "        else:\n",
    "            sk += 1"
   ]
  },
  {
   "cell_type": "code",
   "execution_count": null,
   "metadata": {},
   "outputs": [],
   "source": [
    "# https://codingcompetitions.withgoogle.com/codejam/round/000000000019fd27/000000000020993c\n",
    "\n",
    "import numpy as np\n",
    "\n",
    "def skaiciuok():\n",
    "    n = int(input())\n",
    "\n",
    "    arr = [list(map(int, input().split())) for i in range(n)]\n",
    "    arr = np.array(arr)\n",
    "    trace = sum([arr[i, i] for i in range(n)])\n",
    "\n",
    "    row_number = 0\n",
    "    for i in range(n):\n",
    "        listas = []\n",
    "        for j in range(n):\n",
    "            if arr[i, j] in listas:\n",
    "                row_number += 1\n",
    "                break\n",
    "            else: \n",
    "                listas.append(arr[i, j])\n",
    "\n",
    "    col_number = 0\n",
    "    for i in range(n):\n",
    "        listas = []\n",
    "        for j in range(n):\n",
    "            if arr[j, i] in listas:\n",
    "                col_number += 1\n",
    "                break\n",
    "            else:\n",
    "                listas.append(arr[j, i])\n",
    "\n",
    "    return ' '.join([str(trace), str(row_number), str(col_number)])\n",
    "\n",
    "T = int(input())\n",
    "\n",
    "                 \n",
    "for t in range(1, T+1):\n",
    "    print('Case #{}: {}'.format(t, skaiciuok()))       "
   ]
  }
 ],
 "metadata": {
  "kernelspec": {
   "display_name": "Python 3",
   "language": "python",
   "name": "python3"
  },
  "language_info": {
   "codemirror_mode": {
    "name": "ipython",
    "version": 3
   },
   "file_extension": ".py",
   "mimetype": "text/x-python",
   "name": "python",
   "nbconvert_exporter": "python",
   "pygments_lexer": "ipython3",
   "version": "3.7.6"
  }
 },
 "nbformat": 4,
 "nbformat_minor": 4
}
