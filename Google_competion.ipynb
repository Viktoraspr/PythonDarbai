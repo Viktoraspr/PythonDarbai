{
 "cells": [
  {
   "cell_type": "code",
   "execution_count": 38,
   "metadata": {},
   "outputs": [
    {
     "name": "stdout",
     "output_type": "stream",
     "text": [
      "3\n",
      "4 100\n",
      "20 90 40 90\n",
      "Case #1: 2\n",
      "4 50\n",
      "30 30 10 10\n",
      "Case #2: 3\n",
      "3 300\n",
      "999 999 999\n",
      "Case #3: 0\n"
     ]
    }
   ],
   "source": [
    "# https://codingcompetitions.withgoogle.com/kickstart/round/000000000019ffc7/00000000001d3f56\n",
    "\n",
    "T = int(input())\n",
    "\n",
    "for t in range(T):\n",
    "    n, s = [int(x) for x in input().split()] \n",
    "    listas = [int(x) for x in input().split()] \n",
    "    \n",
    "    skaicius = 0\n",
    "    for l in listas:\n",
    "        if l <= s:\n",
    "            s -= l\n",
    "            skaicius += 1\n",
    "            \n",
    "    print(f'Case #{t+1}: {skaicius}')"
   ]
  },
  {
   "cell_type": "code",
   "execution_count": 1,
   "metadata": {},
   "outputs": [
    {
     "name": "stdout",
     "output_type": "stream",
     "text": [
      "4\n",
      "42\n",
      "Case #1: 0\n",
      "11\n",
      "Case #2: 3\n",
      "1\n",
      "Case #3: 1\n",
      "2018\n",
      "Case #4: 2\n"
     ]
    }
   ],
   "source": [
    "# https://codingcompetitions.withgoogle.com/kickstart/round/0000000000050edf/00000000000510ed\n",
    "\n",
    "def check_uneven(N):\n",
    "    N = str(N)\n",
    "    for n in N:\n",
    "        if int(n) % 2 == 1:\n",
    "            return False\n",
    "    return True\n",
    "\n",
    "\n",
    "\n",
    "T = int(input())\n",
    "\n",
    "for t in range(1, T+1):\n",
    "    N = int(input())\n",
    "    sk = 0\n",
    "    m = False\n",
    "\n",
    "    while not m:\n",
    "        if check_uneven(N+sk) or check_uneven(N-sk):\n",
    "            print(\"Case #{}: {}\".format(t, sk))\n",
    "            m = True\n",
    "        else:\n",
    "            sk += 1"
   ]
  },
  {
   "cell_type": "code",
   "execution_count": 2,
   "metadata": {},
   "outputs": [
    {
     "name": "stdout",
     "output_type": "stream",
     "text": [
      "3\n",
      "4\n",
      "1 2 3 4\n",
      "2 1 4 3\n",
      "3 4 1 2\n",
      "4 1 2 3\n",
      "Case #1: 6 0 2\n",
      "4\n",
      "2 2 2 2\n",
      "2 3 2 3\n",
      "2 2 2 3\n",
      "2 2 2 2\n",
      "Case #2: 9 4 4\n",
      "3\n",
      "2 1 3\n",
      "1 3 2\n",
      "1 2 3\n",
      "Case #3: 8 0 2\n"
     ]
    }
   ],
   "source": [
    "# https://codingcompetitions.withgoogle.com/codejam/round/000000000019fd27/000000000020993c\n",
    "\n",
    "import numpy as np\n",
    "\n",
    "def skaiciuok():\n",
    "    n = int(input())\n",
    "\n",
    "    arr = [list(map(int, input().split())) for i in range(n)]\n",
    "    arr = np.array(arr)\n",
    "    trace = sum([arr[i, i] for i in range(n)])\n",
    "\n",
    "    row_number = 0\n",
    "    for i in range(n):\n",
    "        listas = []\n",
    "        for j in range(n):\n",
    "            if arr[i, j] in listas:\n",
    "                row_number += 1\n",
    "                break\n",
    "            else: \n",
    "                listas.append(arr[i, j])\n",
    "\n",
    "    col_number = 0\n",
    "    for i in range(n):\n",
    "        listas = []\n",
    "        for j in range(n):\n",
    "            if arr[j, i] in listas:\n",
    "                col_number += 1\n",
    "                break\n",
    "            else:\n",
    "                listas.append(arr[j, i])\n",
    "\n",
    "    return ' '.join([str(trace), str(row_number), str(col_number)])\n",
    "\n",
    "T = int(input())\n",
    "\n",
    "                 \n",
    "for t in range(1, T+1):\n",
    "    print('Case #{}: {}'.format(t, skaiciuok()))       "
   ]
  },
  {
   "cell_type": "code",
   "execution_count": 6,
   "metadata": {},
   "outputs": [
    {
     "name": "stdout",
     "output_type": "stream",
     "text": [
      "2 \n",
      "2 4 5\n",
      "10 10 100 30\n",
      "80 50 10 50\n",
      "Case #1: 250\n",
      "3 2 3\n",
      "80 80\n",
      "15 50\n",
      "20 10\n",
      "Case #2: 180\n"
     ]
    }
   ],
   "source": [
    "# https://codingcompetitions.withgoogle.com/kickstart/round/000000000019ffc7/00000000001d40bb#problem\n",
    "\n",
    "T = int (input())\n",
    "for t in range(1, T+1):\n",
    "    n, k, p = [int(_) for _ in input().split()]\n",
    "    stacks = []\n",
    "    for i in range(n):\n",
    "        stacks.append([int(_) for _ in input().split()])\n",
    "\n",
    "    dp = [0]*(p+1)\n",
    "    for i in range(n):\n",
    "        dpnext = dp.copy()\n",
    "        for j in range(p+1):\n",
    "            run = 0\n",
    "            for m in range(min(k, p-j)):\n",
    "                run += stacks[i][m]\n",
    "                dpnext[j] = max(dpnext[j], dp[j+m+1] + run)\n",
    "        dp = dpnext.copy()\n",
    "    print (\"Case #{}: {}\".format(t, max(dp)))"
   ]
  }
 ],
 "metadata": {
  "kernelspec": {
   "display_name": "Python 3",
   "language": "python",
   "name": "python3"
  },
  "language_info": {
   "codemirror_mode": {
    "name": "ipython",
    "version": 3
   },
   "file_extension": ".py",
   "mimetype": "text/x-python",
   "name": "python",
   "nbconvert_exporter": "python",
   "pygments_lexer": "ipython3",
   "version": "3.7.6"
  }
 },
 "nbformat": 4,
 "nbformat_minor": 4
}
