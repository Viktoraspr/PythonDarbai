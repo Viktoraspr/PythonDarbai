{
 "cells": [
  {
   "cell_type": "markdown",
   "metadata": {},
   "source": [
    "The code can be used to scrap the companies’ finance data from finance.yahoo page. You just need to know short company code, for example from page https://finance.yahoo.com/gainers, column Symbol. And you just need to add company’s short name in companies_list list.\n",
    "\n",
    "Financial results takes from page like:\n",
    "https://finance.yahoo.com/quote/BNKXF/financials?p=BNKXF\n",
    "\n",
    "The code also can filter the companies by their grows’ criteria – for example you want to see only such companies, which grew 10% in 2018 year and 5% in 2019 year. \n"
   ]
  },
  {
   "cell_type": "code",
   "execution_count": 11,
   "metadata": {},
   "outputs": [
    {
     "name": "stdout",
     "output_type": "stream",
     "text": [
      "Please, enter the percentage change in Total Revenue ttm/2020:2\n",
      "Please, enter the percentage change in Total Revenue 2019/2018:2\n",
      "Please, enter the percentage change in Total Revenue 2018/2017:2\n",
      "Please, enter the percentage change in Total Revenue 2017/2016:2\n"
     ]
    }
   ],
   "source": [
    "import pandas as pd\n",
    "import requests\n",
    "from bs4 import BeautifulSoup\n",
    "import numpy as np\n",
    "\n",
    "pd.options.display.float_format = '{:.0f}'.format\n",
    "\n",
    "year = ['ttm/2020', '2019/2018', '2018/2017', '2017/2016']\n",
    "grown = []\n",
    "for i in range(4):\n",
    "    grown.append(int(input('Please, enter the percentage change in Total Revenue {}:'.format(year[i]))))\n",
    "    \n",
    "grown_np = np.array(grown) / 100 + 1\n",
    "\n",
    "\n",
    "companies_list = ['UBER',  'BNKXF' , 'CRYYF', 'PTKFF', 'BYDIF', 'CRZBY'] "
   ]
  },
  {
   "cell_type": "code",
   "execution_count": 12,
   "metadata": {},
   "outputs": [],
   "source": [
    "def company_financal_data(company):\n",
    "      \n",
    "    url_is = 'https://finance.yahoo.com/quote/' + company + '/financials?p=' + company\n",
    "    response = requests.get(url_is)\n",
    "    soup_is = BeautifulSoup(response.text, \"lxml\")\n",
    "    features = soup_is.find_all('div', class_='D(tbr)')\n",
    "\n",
    "    headers = []\n",
    "    temp_list = []\n",
    "    label_list = []\n",
    "    final = []\n",
    "    index = 0\n",
    "    for item in features[0].find_all('div', class_='D(ib)'):\n",
    "        headers.append(item.text)\n",
    "    while index <= len(features)-1:\n",
    "        temp = features[index].find_all('div', class_='D(tbc)')\n",
    "        for line in temp:\n",
    "            temp_list.append(line.text)\n",
    "        final.append(temp_list)\n",
    "        temp_list = []\n",
    "        index+=1\n",
    "    df = pd.DataFrame(final[1:])\n",
    "    df.columns = headers\n",
    "    df['Company'] = company\n",
    "    df = df[df['Breakdown'] == 'Total Revenue']\n",
    "    return(df)"
   ]
  },
  {
   "cell_type": "code",
   "execution_count": 13,
   "metadata": {},
   "outputs": [
    {
     "data": {
      "text/html": [
       "<div>\n",
       "<style scoped>\n",
       "    .dataframe tbody tr th:only-of-type {\n",
       "        vertical-align: middle;\n",
       "    }\n",
       "\n",
       "    .dataframe tbody tr th {\n",
       "        vertical-align: top;\n",
       "    }\n",
       "\n",
       "    .dataframe thead th {\n",
       "        text-align: right;\n",
       "    }\n",
       "</style>\n",
       "<table border=\"1\" class=\"dataframe\">\n",
       "  <thead>\n",
       "    <tr style=\"text-align: right;\">\n",
       "      <th></th>\n",
       "      <th>Breakdown</th>\n",
       "      <th>ttm</th>\n",
       "      <th>12/31/2019</th>\n",
       "      <th>12/31/2018</th>\n",
       "      <th>12/31/2017</th>\n",
       "      <th>12/31/2016</th>\n",
       "      <th>Company</th>\n",
       "    </tr>\n",
       "  </thead>\n",
       "  <tbody>\n",
       "    <tr>\n",
       "      <th>0</th>\n",
       "      <td>Total Revenue</td>\n",
       "      <td>13666000</td>\n",
       "      <td>14147000</td>\n",
       "      <td>11270000</td>\n",
       "      <td>7932000</td>\n",
       "      <td>3845000</td>\n",
       "      <td>UBER</td>\n",
       "    </tr>\n",
       "    <tr>\n",
       "      <th>0</th>\n",
       "      <td>Total Revenue</td>\n",
       "      <td>3498270</td>\n",
       "      <td>3490370</td>\n",
       "      <td>3564376</td>\n",
       "      <td>3285593</td>\n",
       "      <td>3360310</td>\n",
       "      <td>BNKXF</td>\n",
       "    </tr>\n",
       "    <tr>\n",
       "      <th>0</th>\n",
       "      <td>Total Revenue</td>\n",
       "      <td>41646287</td>\n",
       "      <td>41646287</td>\n",
       "      <td>39844006</td>\n",
       "      <td>34433683</td>\n",
       "      <td>29402146</td>\n",
       "      <td>CRYYF</td>\n",
       "    </tr>\n",
       "    <tr>\n",
       "      <th>0</th>\n",
       "      <td>Total Revenue</td>\n",
       "      <td>23063580175</td>\n",
       "      <td>22633476361</td>\n",
       "      <td>21074306186</td>\n",
       "      <td>20182120167</td>\n",
       "      <td>19374230958</td>\n",
       "      <td>PTKFF</td>\n",
       "    </tr>\n",
       "    <tr>\n",
       "      <th>0</th>\n",
       "      <td>Total Revenue</td>\n",
       "      <td>61134571</td>\n",
       "      <td>53028376</td>\n",
       "      <td>41047139</td>\n",
       "      <td>38774422</td>\n",
       "      <td>36734264</td>\n",
       "      <td>BYDIF</td>\n",
       "    </tr>\n",
       "    <tr>\n",
       "      <th>0</th>\n",
       "      <td>Total Revenue</td>\n",
       "      <td>8878000</td>\n",
       "      <td>8929000</td>\n",
       "      <td>8653000</td>\n",
       "      <td>9276000</td>\n",
       "      <td>9318000</td>\n",
       "      <td>CRZBY</td>\n",
       "    </tr>\n",
       "  </tbody>\n",
       "</table>\n",
       "</div>"
      ],
      "text/plain": [
       "       Breakdown         ttm  12/31/2019  12/31/2018  12/31/2017  12/31/2016  \\\n",
       "0  Total Revenue    13666000    14147000    11270000     7932000     3845000   \n",
       "0  Total Revenue     3498270     3490370     3564376     3285593     3360310   \n",
       "0  Total Revenue    41646287    41646287    39844006    34433683    29402146   \n",
       "0  Total Revenue 23063580175 22633476361 21074306186 20182120167 19374230958   \n",
       "0  Total Revenue    61134571    53028376    41047139    38774422    36734264   \n",
       "0  Total Revenue     8878000     8929000     8653000     9276000     9318000   \n",
       "\n",
       "  Company  \n",
       "0    UBER  \n",
       "0   BNKXF  \n",
       "0   CRYYF  \n",
       "0   PTKFF  \n",
       "0   BYDIF  \n",
       "0   CRZBY  "
      ]
     },
     "execution_count": 13,
     "metadata": {},
     "output_type": "execute_result"
    }
   ],
   "source": [
    "or_is = False\n",
    "for company in companies_list:\n",
    "    row = company_financal_data(company)\n",
    "    if not or_is:\n",
    "        db = row\n",
    "        or_is = True\n",
    "    else:\n",
    "        db = pd.concat([db, row])\n",
    "\n",
    "for col in list(db.columns):\n",
    "    db[col] = db[col].str.replace(',','')\n",
    "\n",
    "convert_dict = {'ttm': float,\n",
    "               '12/31/2019': float,\n",
    "                '12/31/2018': float,\n",
    "                '12/31/2017': float, \n",
    "                '12/31/2016':float\n",
    "               } \n",
    "db = db.astype(convert_dict)  \n",
    "db"
   ]
  },
  {
   "cell_type": "code",
   "execution_count": 14,
   "metadata": {},
   "outputs": [],
   "source": [
    "result = db[(db['ttm'] > db['12/31/2019'] * grown_np[0]) &\n",
    "            (db['12/31/2019'] > db['12/31/2018'] * grown_np[1]) & \n",
    "            (db['12/31/2018'] > db['12/31/2017'] * grown_np[2]) &\n",
    "           (db['12/31/2017'] > db['12/31/2016'] * grown_np[3])]"
   ]
  },
  {
   "cell_type": "code",
   "execution_count": 15,
   "metadata": {},
   "outputs": [
    {
     "name": "stdout",
     "output_type": "stream",
     "text": [
      "Companies: BYDIF "
     ]
    }
   ],
   "source": [
    "# Prints companies that meet the criteria\n",
    "print(\"Companies:\", end = \" \")\n",
    "x = 1\n",
    "for r in result['Company']:\n",
    "    print(r, end = \" \")\n",
    "    if x % 4 == 0 and x > 0:\n",
    "        print()\n",
    "    x += 1"
   ]
  }
 ],
 "metadata": {
  "kernelspec": {
   "display_name": "Python 3",
   "language": "python",
   "name": "python3"
  },
  "language_info": {
   "codemirror_mode": {
    "name": "ipython",
    "version": 3
   },
   "file_extension": ".py",
   "mimetype": "text/x-python",
   "name": "python",
   "nbconvert_exporter": "python",
   "pygments_lexer": "ipython3",
   "version": "3.7.6"
  }
 },
 "nbformat": 4,
 "nbformat_minor": 4
}
