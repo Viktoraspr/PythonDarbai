{
 "cells": [
  {
   "cell_type": "markdown",
   "metadata": {},
   "source": [
    "1, 0, 0, 0 means red.\n",
    "0, 1, 0, 0 means yellow.\n",
    "0, 0, 1, 0 means green.\n",
    "0, 0, 0, 1 means green left arrow.\n",
    "0, 0, 0, 0 means that no light is on.\n",
    "\n",
    "Requirement for the traffic light is that it can only switch in two different sequences:\n",
    "Red -> Yellow -> Green -> Yellow -> Red (and repeat)\n",
    "Red -> Yellow -> Green left -> Green -> Yellow -> Red (and repeat)\n",
    "I. e. Sometimes traffic light is allowed to skip left turn. \n",
    "\n",
    "Your task is to create python sctipt, that reads data from file, and analyses it to check if the traffic light is working correctly. In other words, no invalid steps (example above) were done.\n",
    "Keep in mind that both (and only) green lights blink before turning off, there are no gaps between switches. Camera might take a picture with no lights on."
   ]
  },
  {
   "cell_type": "code",
   "execution_count": 9,
   "metadata": {},
   "outputs": [
    {
     "name": "stdout",
     "output_type": "stream",
     "text": [
      "Valid switches\n"
     ]
    }
   ],
   "source": [
    "red, yellow = ['1,0,0,0'], ['0,1,0,0']\n",
    "green, green_left = ['0,0,1,0'], ['0,0,0,1']\n",
    "no_light = ['0,0,0,0']\n",
    "\n",
    "valid_steps = [[red, yellow, green, yellow], [red, yellow, green_left, green, yellow]]\n",
    "file_name = 'data.txt'\n",
    "\n",
    "def read_data(file):\n",
    "    \"Read data from and return data without dublicated rows\"\n",
    "    with open(file) as f:\n",
    "        data = ['0']\n",
    "        for row in f:\n",
    "            r = row.split()\n",
    "            if r != no_light and r != data[-1]:\n",
    "                data.append(r)\n",
    "        \n",
    "        return data[1:]\n",
    "\n",
    "def check_data(data):\n",
    "    \"Check if the lights are in the correct row\"\n",
    "    \n",
    "    \"At first program checks what if first color is not red\"\n",
    "    indexas = data.index(red)\n",
    "    if indexas == 0:\n",
    "        pass\n",
    "    elif indexas > 4:\n",
    "        return ('Invalid switches')\n",
    "    elif indexas == 3:\n",
    "        if data[0:indexas] != valid_steps[1][1:]:\n",
    "            return ('Invalid switches')\n",
    "    else:\n",
    "        if data[0:indexas] != valid_steps[0][(4-indexas):] and data[0:indexas] != valid_steps[1][(5-indexas):]:\n",
    "            return ('Invalid switches')\n",
    "            \n",
    "    lights = []\n",
    "\n",
    "    \"Checking from the red collor\"\n",
    "    for d in data[indexas:]:\n",
    "        lights.append(d)\n",
    "        if lights == valid_steps[0][:len(lights)]:\n",
    "            first = True\n",
    "            if len(lights) == 4:\n",
    "                lights = []\n",
    "            continue\n",
    "\n",
    "        else:\n",
    "            if len(lights) == 5:\n",
    "                lights = []\n",
    "                \n",
    "            if lights == valid_steps[1][:len(lights)]:\n",
    "                continue\n",
    "            else:\n",
    "                return ('Invalid switches')\n",
    "\n",
    "    return ('Valid switches')\n",
    "    \n",
    "\n",
    "print(check_data(read_data(file_name)))"
   ]
  }
 ],
 "metadata": {
  "kernelspec": {
   "display_name": "Python 3",
   "language": "python",
   "name": "python3"
  },
  "language_info": {
   "codemirror_mode": {
    "name": "ipython",
    "version": 3
   },
   "file_extension": ".py",
   "mimetype": "text/x-python",
   "name": "python",
   "nbconvert_exporter": "python",
   "pygments_lexer": "ipython3",
   "version": "3.8.5"
  }
 },
 "nbformat": 4,
 "nbformat_minor": 4
}
