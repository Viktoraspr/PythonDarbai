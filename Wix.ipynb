{
 "cells": [
  {
   "cell_type": "code",
   "execution_count": 29,
   "metadata": {},
   "outputs": [
    {
     "name": "stdout",
     "output_type": "stream",
     "text": [
      "True\n"
     ]
    }
   ],
   "source": [
    "array = ['Dark Ocean', 'Paper camp', 'Paper camp', 'Dark Ocean', 'Modern day love', \n",
    "         'Modern day love', 'Future glitch', 'Paper camp', 'Paper camp']\n",
    "\n",
    "def count_films(array):\n",
    "    films = dict()\n",
    "    for i in set(array):\n",
    "        films[i] = array.count(i)\n",
    "        \n",
    "    return films\n",
    "\n",
    "def is_equal(film, number, film_counts):\n",
    "    if film_counts[film] == number:\n",
    "        return True\n",
    "\n",
    "\n",
    "film_counts = count_films(array)\n",
    "\n",
    "print(is_equal('Paper camp', 4, film_counts))\n",
    "        \n"
   ]
  }
 ],
 "metadata": {
  "kernelspec": {
   "display_name": "Python 3",
   "language": "python",
   "name": "python3"
  },
  "language_info": {
   "codemirror_mode": {
    "name": "ipython",
    "version": 3
   },
   "file_extension": ".py",
   "mimetype": "text/x-python",
   "name": "python",
   "nbconvert_exporter": "python",
   "pygments_lexer": "ipython3",
   "version": "3.8.5"
  }
 },
 "nbformat": 4,
 "nbformat_minor": 4
}
